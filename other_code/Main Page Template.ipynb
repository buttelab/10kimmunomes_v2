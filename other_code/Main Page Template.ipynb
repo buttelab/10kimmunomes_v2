{
 "cells": [
  {
   "cell_type": "markdown",
   "metadata": {},
   "source": [
    "<font size=8>Main Page Source Code</font>"
   ]
  },
  {
   "cell_type": "markdown",
   "metadata": {},
   "source": [
    "# <font color=\"gray\">Set Up Notebook</font>"
   ]
  },
  {
   "cell_type": "markdown",
   "metadata": {},
   "source": [
    "This section gets everythng ready for us to start coding. Specifically it imports all of the required packages and loads in the datasets we need of the website."
   ]
  },
  {
   "cell_type": "markdown",
   "metadata": {},
   "source": [
    "## Import Packages"
   ]
  },
  {
   "cell_type": "markdown",
   "metadata": {},
   "source": [
    "Shiny and stats packages"
   ]
  },
  {
   "cell_type": "code",
   "execution_count": null,
   "metadata": {},
   "outputs": [],
   "source": [
    "require(shiny)\n",
    "require(digest) \n",
    "require(grid)\n",
    "require(MASS) \n",
    "require(stats) \n",
    "require(shinyjs) "
   ]
  },
  {
   "cell_type": "markdown",
   "metadata": {},
   "source": [
    "Plotting Packages"
   ]
  },
  {
   "cell_type": "code",
   "execution_count": null,
   "metadata": {},
   "outputs": [],
   "source": [
    "library(ggplot2)\n",
    "library(plotly)\n",
    "library(ggthemes)"
   ]
  },
  {
   "cell_type": "markdown",
   "metadata": {},
   "source": [
    "## Download Everything <small>(if necessary)</small>"
   ]
  },
  {
   "cell_type": "markdown",
   "metadata": {},
   "source": [
    "Here we downloald of the necessary files to run the 10k website."
   ]
  },
  {
   "cell_type": "markdown",
   "metadata": {},
   "source": [
    "Download Website Images "
   ]
  },
  {
   "cell_type": "code",
   "execution_count": null,
   "metadata": {},
   "outputs": [],
   "source": [
    "if( !'www' %in% list.files() ){\n",
    "    print(\"Downloading web resource files\")\n",
    "    dir.create(\"www\")\n",
    "    download.file(url=\"https://storage.googleapis.com/bakar-data/10k/www/Banner.jpeg\",\n",
    "                  destfile=\"www/Banner.jpeg\", method=\"wget\")\n",
    "    download.file(url=\"https://storage.googleapis.com/bakar-data/10k/www/Figure_1.png\",\n",
    "                  destfile=\"www/Figure_1.png\", method=\"wget\")\n",
    "    download.file(url=\"https://storage.googleapis.com/bakar-data/10k/www/Table_1.jpg\",\n",
    "                  destfile=\"www/Table_1.jpg\", method=\"wget\")\n",
    "    print(\"Done\")\n",
    "}"
   ]
  },
  {
   "cell_type": "markdown",
   "metadata": {},
   "source": [
    "## Load in Datasets and Resources"
   ]
  },
  {
   "cell_type": "markdown",
   "metadata": {},
   "source": [
    " Add the `www` folder to R Shiny's file path. Se that we can display images in the website."
   ]
  },
  {
   "cell_type": "code",
   "execution_count": null,
   "metadata": {},
   "outputs": [],
   "source": [
    "addResourcePath(\"www\", paste(getwd() , \"/www\", sep=\"\") )"
   ]
  },
  {
   "cell_type": "markdown",
   "metadata": {},
   "source": [
    "#  <font color=\"blue\">Initialize Shiny</font> "
   ]
  },
  {
   "cell_type": "markdown",
   "metadata": {},
   "source": [
    "To make this projcect more readable we I user **<font color=\"green\">user interface</font>** and **<font color=\"purple\">server</font>** object. I then iteratively append code to these objects a few pieces at a time."
   ]
  },
  {
   "cell_type": "markdown",
   "metadata": {},
   "source": [
    "This line creates the **<font color=\"green\">user interface</font>**, the \"front end\" part of the website that everyone sees."
   ]
  },
  {
   "cell_type": "code",
   "execution_count": null,
   "metadata": {},
   "outputs": [],
   "source": [
    "ui = div() "
   ]
  },
  {
   "cell_type": "markdown",
   "metadata": {},
   "source": [
    "We create the **<font color=\"purple\">server</font>** object then we add code to it one at a time in the followign sections."
   ]
  },
  {
   "cell_type": "code",
   "execution_count": null,
   "metadata": {},
   "outputs": [],
   "source": [
    "server <- function(input, output, session) { }"
   ]
  },
  {
   "cell_type": "markdown",
   "metadata": {},
   "source": [
    "#  <font color=\"orange\">Title</font>"
   ]
  },
  {
   "cell_type": "markdown",
   "metadata": {},
   "source": [
    "To understand what this section does run the **<font color=\"orange\">Main Page</font>** section and compare it to the actual 10k website."
   ]
  },
  {
   "cell_type": "code",
   "execution_count": null,
   "metadata": {
    "scrolled": false
   },
   "outputs": [],
   "source": [
    "tempHtml = div( \n",
    "        div( class=\"row\", style=\"background-color: rgb(217,234,248,.5)\", div( class=\"col-xs-12 col col-md-10 col-md-offset-1\",                                \n",
    "            img(src='www/Banner.jpeg', class=\"img-responsive\")\n",
    "        )),\n",
    "        div( class=\"row\", div( class=\"jumbotron img-responsive\",  style=\"padding: .9em; background-color: rgb(250,250,250)\",    #rgb(225, 243, 252)\n",
    "            #p(\" In scientific experiments it’s important to compare experimental results against a control dataset. However, sometimes it’s not possible for a lab to easily obtain data from healthy control subjects. This is especially true in immunology, the study of the immune system, where scientists may run multiple costly tests. We built 10k immunomes so that anyone can get high quality data from healthy subjects using any of the latest scientific methods. In minutes, you will have a graph ready for your paper!\"),\n",
    "            p(\"In science it’s important to compare experimental results against a control dataset. However, sometimes it’s not possible obtain data from healthy control subjects. This is especially true when studying the immune system, where scientists run multiple costly tests. 10k immunomes allows anyone to obtain high quality data and create graphics using the latest scientific methods.\"),\n",
    "            p(tags$small( strong('What is 10k Immunomes?'),\n",
    "               'The 10,000 Immunomes Project is a reference dataset for human immunology, \\r derived from over 10,000 control subjects in the', \n",
    "                a(href=\"http://www.immport.org\", \"NIAID ImmPort Database\",inline = T, target = \"_blank\"), \n",
    "                '. Available data include flow cytometry, CyTOF, multiplex ELISA, gene expression, RNA-Seq, Mass Spectrometry, HAI titers,\\r clinical lab tests, HLA type, and others. Click one of the buttons below to view visualizations of all the datasets from that type of study. More information about the website can be found in our', \n",
    "                a(href = 'https://www.cell.com/cell-reports/fulltext/S2211-1247(18)31451-7', 'Cell Reports Publication',inline = T, target = \"_blank\"),'.', \n",
    "                a(href = 'mailto:BISC_Helpdesk@niaid.nih.gov', 'Contact us', inline = T, target = \"_blank\"), \n",
    "                'with queries and bug reports. All code is openly available on',\n",
    "                 a(href = 'https://github.com/pupster90/10k_Immunomes', 'Github', inline = T, target = \"_blank\"), \"and\",\n",
    "                 a(href = 'https://hub.docker.com/r/pupster90/io', 'Docker', inline = T, target = \"_blank\") ) #'~Last updated 7/25/2019.'\n",
    "          )\n",
    "       ))\n",
    " )\n",
    "\n",
    "ui = tagAppendChild(ui, tempHtml )\n",
    "tempHtml\n"
   ]
  },
  {
   "cell_type": "markdown",
   "metadata": {},
   "source": [
    "# <font color=\"peru\">Body</font>"
   ]
  },
  {
   "cell_type": "markdown",
   "metadata": {},
   "source": [
    "To get a better idea of what it does  uncomment the `tempHtml` line at the end of the  <font color=\"peru\">Body Home</font> section"
   ]
  },
  {
   "cell_type": "code",
   "execution_count": null,
   "metadata": {},
   "outputs": [],
   "source": [
    "tempHtml= div(\n",
    "   div(class=\"jumbotron\", style=\"background-color: white; padding: .9em\",\n",
    "\n",
    "        #column(12, column(7,tags$u( h2(\"Made with ImmPort\", class=\"text-center\")  ))),\n",
    "        column( 7, a(href=\"http://www.immport.org\", img(src='www/Figure_1.png', class=\"img-responsive\"), inline = T, target = \"_blank\")  ),\n",
    "        column( 5, \n",
    "                p(tags$small(\"Data from 242 studies and 44,775 subjects was collected from the NIAID Immunology Data and Analysis Portal,\",a(href=\"http://www.immport.org\", \"ImmPort\", inline = T, target = \"_blank\"),\". It includes flow cytometry, CyTOF, mRNA expression, secreted protein levels, clinical lab tests, HAI titers, HLA type, and others. We hand curated the entire contents of ImmPort to filter for normal healthy human control subjects. Each of the data types were systematically processed and harmonized. This data constitutes the largest compendium to date of cellular and molecular immune measurements on healthy normal human subjects.\"))\n",
    "              ),\n",
    "       p(\".\", style=\"color:white; padding:0; margin:0; font-size:50%;\"), # makes a vertical space,\n",
    "       HTML(\"<hr>\"),\n",
    "       \n",
    "       column( 5,\n",
    "              tags$u( h2(\"10,000 Subjects\")  ),\n",
    "              p(tags$small(\"Below is a table displaying the number of subjects in each dataset. Counts of distinct subjects for whom raw data of each type is represented in the initial release of the 10KIP. Because many subjects contributed multiple measurement types, the totals across all measurement types substantially exceed the number of distinct subjects.\"))\n",
    "            ),\n",
    "       column( 5,\n",
    "              a(href=\"http://www.immport.org\", img(src='www/Table_1.jpg', class=\"img-responsive\"), inline = T, target = \"_blank\")\n",
    "            ),\n",
    "      # Youtube Video\n",
    "       div( class=\"col-xs-12 col-sm-7 col-md-6\", style=\"padding-top: 5px;\", \n",
    "         div( class=\"embed-responsive embed-responsive-16by9\",\n",
    "              HTML('<iframe width=\"200\" height=\"100\" src=\"https://www.youtube.com/embed/pwBs4J4xDOw\" class=\"embed-responsive-item\"></iframe>')\n",
    "             )\n",
    "          ),\n",
    "        # Links for external sites and Datasets\n",
    "        div( class=\"col-xs-12 col-sm-12 col-md-6 text-center\",\n",
    "                p(\".\", style=\"color:white\"), # makes a vertical space\n",
    "                h3(\"Learn More\"), \n",
    "                p( #tags$small(\n",
    "                  a(href = 'http://www.immport.org/immport-open/public/home/home', 'ImmPort Homepage'), br(),\n",
    "                  a(href = 'https://www.cell.com/cell-reports/fulltext/S2211-1247(18)31451-7', '10,000 Immunomes Paper', target = \"_blank\"), br(),\n",
    "                  a(href = 'https://www.cell.com/cell-reports/fulltext/S2211-1247(18)31080-5', 'MetaCyto Cytometry Analysis Paper', target = \"_blank\"), br(),\n",
    "                  a(href = 'https://bioconductor.org/packages/release/bioc/html/MetaCyto.html', 'MetaCyto Cytometry Analysis Code', target = \"_blank\"), br(),\n",
    "                  a(href = 'https://www.bu.edu/jlab/wp-assets/ComBat/Abstract.html', 'ComBat Batch Correction Algorithm', target = \"_blank\"), br(),\n",
    "                  a(href = 'https://storage.googleapis.com/bakar-data/10k/data_raw/Questionnaire.zip', '10k Questionnaire Dataset', target = \"_blank\"), br(),\n",
    "                  a(href = 'https://storage.googleapis.com/bakar-data/10k/data_raw/hla.csv', '10k HLA Dataset', target = \"_blank\"), br(),  \n",
    "                  a(href = 'mailto:BISC_Helpdesk@niaid.nih.gov','Contact Us', target = \"_blank\")\n",
    "              ) #)\n",
    "        )\n",
    "    ),\n",
    "    # Citations at end of page\n",
    "    div(                        \n",
    "      column(12,\n",
    "        tags$hr(),tags$hr(),     \n",
    "        h3('Cite 10k Immunomes'),\n",
    "        p(\"Zalocusky KA, Kan MJ, Hu Z, Dunn P, Thomson E, Wiser J, Bhattacharya S, Butte AJ. The 10,000 Immunomes Project: Building a Resource for Human Immunology. Cell reports. 2019 Oct 9;25(2):513-22. PMID:30304689\"  )\n",
    "        ),\n",
    "      column(12,\n",
    "        h3('REFERENCES'),\n",
    "        p('1) Hu Z, Jujjavarapu C, Hughey JJ, Andorf S, Lee H, Gherardini PF, Spitzer MH, et al. Meta-analysis of Cytometry Data Reveals Racial Differences in Immune Cells. Cell Reports. 2018 Jul 31;24(5):1377-88. ' ),\n",
    "        p('2) Finak G, Langweiler M, Jaimes M, Malek M, Taghiyar J, Korin Y, et al. Standardizing Flow Cytometry Immunophenotyping Analysis from the Human ImmunoPhenotyping Consortium. Scientific Reports. 2016 Aug 10;6(1):20686.' ),\n",
    "        p('3) Johnson WE, Li C, Rabinovic A. Adjusting batch effects in microarray expression data using empirical Bayes methods. Biostat. 2007 Jan 1;8(1):118–27. ' ),\n",
    "        p('4) Irizarry RA, Hobbs B, Collin F, Beazer‐Barclay YD, Antonellis KJ, Scherf U, et al. Exploration, normalization, and summaries of high density oligonucleotide array probe level data. Biostatistics. 2003 Apr 1;4(2):249–64. ' ),\n",
    "        p('5) Zalocusky KA, Kan MJ, Hu Z, Dunn P, Thomson E, Wiser J, Bhattacharya S, Butte AJ. The 10,000 Immunomes Project: Building a Resource for Human Immunology. Cell reports. 2018 Oct 9;25(2):513-22. PMID:30304689' ),\n",
    "        p('6) Lee AH, Shannon CP, Amenyogbe N, Bennike TB, Diray-Arce J, Idoko OT, et al. Dynamic molecular changes during the first week of human life follow a robust developmental trajectory. Nature Communications. 2018 March 12;10:1092.' )\n",
    "        ),\n",
    "      p(\".\", style=\"color:white\") # makes a vertical space\n",
    "   ) #<- end jumbotron\n",
    ") #<-- end main div\n",
    "ui = tagAppendChild(ui, tempHtml )\n",
    "tempHtml\n"
   ]
  },
  {
   "cell_type": "markdown",
   "metadata": {},
   "source": [
    "# <font color=\"blue\">Run  Shiny</font> "
   ]
  },
  {
   "cell_type": "markdown",
   "metadata": {},
   "source": [
    "We change the following options so that <font color=\"blue\">RShiny</font> runs at an exposed port and on the computer."
   ]
  },
  {
   "cell_type": "code",
   "execution_count": null,
   "metadata": {},
   "outputs": [],
   "source": [
    "options(shiny.port = 8888)\n",
    "options(shiny.host = \"0.0.0.0\")"
   ]
  },
  {
   "cell_type": "markdown",
   "metadata": {},
   "source": [
    "We run the app!"
   ]
  },
  {
   "cell_type": "code",
   "execution_count": null,
   "metadata": {},
   "outputs": [],
   "source": [
    "shinyApp(ui = fluidPage( useShinyjs(), style='margin-left:5px; margin-right:5px', ui  ), server = server)"
   ]
  }
 ],
 "metadata": {
  "hide_input": false,
  "kernelspec": {
   "display_name": "R (Juniper)",
   "language": "R",
   "name": "juniper"
  },
  "language_info": {
   "codemirror_mode": "r",
   "file_extension": ".R",
   "mimetype": "text/x-r-source",
   "name": "R",
   "pygments_lexer": "r",
   "version": "3.5.1"
  },
  "toc": {
   "base_numbering": 1,
   "nav_menu": {},
   "number_sections": true,
   "sideBar": true,
   "skip_h1_title": false,
   "title_cell": "Table of Contents",
   "title_sidebar": "Contents",
   "toc_cell": false,
   "toc_position": {},
   "toc_section_display": true,
   "toc_window_display": false
  },
  "varInspector": {
   "cols": {
    "lenName": 16,
    "lenType": 16,
    "lenVar": 40
   },
   "kernels_config": {
    "python": {
     "delete_cmd_postfix": "",
     "delete_cmd_prefix": "del ",
     "library": "var_list.py",
     "varRefreshCmd": "print(var_dic_list())"
    },
    "r": {
     "delete_cmd_postfix": ") ",
     "delete_cmd_prefix": "rm(",
     "library": "var_list.r",
     "varRefreshCmd": "cat(var_dic_list()) "
    }
   },
   "types_to_exclude": [
    "module",
    "function",
    "builtin_function_or_method",
    "instance",
    "_Feature"
   ],
   "window_display": false
  },
  "widgets": {
   "application/vnd.jupyter.widget-state+json": {
    "state": {},
    "version_major": 2,
    "version_minor": 0
   }
  }
 },
 "nbformat": 4,
 "nbformat_minor": 2
}
