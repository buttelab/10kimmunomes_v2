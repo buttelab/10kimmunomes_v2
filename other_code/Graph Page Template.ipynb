{
 "cells": [
  {
   "cell_type": "markdown",
   "metadata": {},
   "source": [
    "<font size=8>Graph Page Source Code</font>"
   ]
  },
  {
   "cell_type": "markdown",
   "metadata": {},
   "source": [
    "# <font color=\"gray\">Set Up Notebook</font>"
   ]
  },
  {
   "cell_type": "markdown",
   "metadata": {},
   "source": [
    "This section gets everythng ready for us to start coding. Specifically it imports all of the required packages and loads in the datasets we need of the website."
   ]
  },
  {
   "cell_type": "markdown",
   "metadata": {},
   "source": [
    "## Import Packages"
   ]
  },
  {
   "cell_type": "markdown",
   "metadata": {},
   "source": [
    "Shiny and stats packages"
   ]
  },
  {
   "cell_type": "code",
   "execution_count": null,
   "metadata": {},
   "outputs": [],
   "source": [
    "require(shiny)\n",
    "require(digest) \n",
    "require(grid)\n",
    "require(MASS) \n",
    "require(stats) \n",
    "require(shinyjs) "
   ]
  },
  {
   "cell_type": "markdown",
   "metadata": {},
   "source": [
    "Plotting Packages"
   ]
  },
  {
   "cell_type": "code",
   "execution_count": null,
   "metadata": {},
   "outputs": [],
   "source": [
    "library(ggplot2)\n",
    "library(plotly)\n",
    "library(ggthemes)"
   ]
  },
  {
   "cell_type": "markdown",
   "metadata": {},
   "source": [
    "## Download Everything <small>(if necessary)</small>"
   ]
  },
  {
   "cell_type": "markdown",
   "metadata": {},
   "source": [
    "This downloads the immunological data files that are used to create the graphs "
   ]
  },
  {
   "cell_type": "code",
   "execution_count": null,
   "metadata": {},
   "outputs": [],
   "source": [
    "if( !'data' %in% list.files() ){\n",
    "    print(\"Downloading data files\")\n",
    "    dir.create(\"data\")\n",
    "    download.file(url=\"https://storage.googleapis.com/bakar-data/10k/data_app/newtenkdata.rdata\",\n",
    "                  destfile=\"data/newtenkdata.rdata\", method=\"wget\") # Kelly's 10k dataset\n",
    "    download.file(url=\"https://storage.googleapis.com/bakar-data/10k/data_app/Guinea_RNA.csv\",\n",
    "                  destfile=\"data/Guinea_RNA.csv\", method=\"wget\") # New Guinea RNA data\n",
    "    download.file(url=\"https://storage.googleapis.com/bakar-data/10k/data_app/png_metabolomics.725331.csv\",\n",
    "                  destfile=\"data/png_metabolomics.725331.csv\", method=\"wget\") # New Guinea Metabolomics dataset\n",
    "    download.file(url=\"https://storage.googleapis.com/bakar-data/10k/data_app/guinea_cibersort.csv\",\n",
    "                  destfile=\"data/guinea_cibersort.csv\", method=\"wget\") # New Guinea Metabolomics dataset\n",
    "    print(\"Done\")\n",
    "}"
   ]
  },
  {
   "cell_type": "markdown",
   "metadata": {},
   "source": [
    "## Load in Datasets and Resources"
   ]
  },
  {
   "cell_type": "markdown",
   "metadata": {},
   "source": [
    " Add the `data` folder to R Shiny's file path. Se that we can display images in the website."
   ]
  },
  {
   "cell_type": "code",
   "execution_count": null,
   "metadata": {},
   "outputs": [],
   "source": [
    "addResourcePath(\"data\", paste(getwd() , \"/data\", sep=\"\") )"
   ]
  },
  {
   "cell_type": "markdown",
   "metadata": {},
   "source": [
    "load in a and format `guinea_cibersort` data"
   ]
  },
  {
   "cell_type": "code",
   "execution_count": null,
   "metadata": {},
   "outputs": [],
   "source": [
    "guinea_cibersort = read.csv( \"data/guinea_cibersort.csv\",  stringsAsFactors=FALSE, header=TRUE, sep=\",\" )\n",
    "guinea_cibersort$DAY =  as.numeric( substr( guinea_cibersort$Input.Sample, 6,6 ) )\n",
    "guinea_cibersort$SUBJECT = substr( guinea_cibersort$Input.Sample, 1,3 ) "
   ]
  },
  {
   "cell_type": "markdown",
   "metadata": {},
   "source": [
    "Load in `guinea_mass_spec` data"
   ]
  },
  {
   "cell_type": "code",
   "execution_count": null,
   "metadata": {},
   "outputs": [],
   "source": [
    "guinea_mass_spec = read.csv( \"data/png_metabolomics.725331.csv\",  stringsAsFactors=FALSE, header=TRUE, sep=\",\" )\n",
    "guinea_mass_spec[guinea_mass_spec==\"M\"] = \"Male\"\n",
    "guinea_mass_spec[guinea_mass_spec==\"F\"] = \"Female\"\n",
    "guinea_mass_spec[guinea_mass_spec==\"DelayedGroup\"] = \"Delayed Group\"\n",
    "guinea_mass_spec[guinea_mass_spec==\"VaccinatedGroup\"] = \"Vaccinated Group\""
   ]
  },
  {
   "cell_type": "markdown",
   "metadata": {},
   "source": [
    "#  <font color=\"blue\">Initialize Shiny</font> "
   ]
  },
  {
   "cell_type": "markdown",
   "metadata": {},
   "source": [
    "To make this projcect more readable we I user **<font color=\"green\">user interface</font>** and **<font color=\"purple\">server</font>** object. I then iteratively append code to these objects a few pieces at a time."
   ]
  },
  {
   "cell_type": "markdown",
   "metadata": {},
   "source": [
    "This line creates the **<font color=\"green\">user interface</font>**, the \"front end\" part of the website that everyone sees."
   ]
  },
  {
   "cell_type": "code",
   "execution_count": null,
   "metadata": {},
   "outputs": [],
   "source": [
    "ui = div() "
   ]
  },
  {
   "cell_type": "markdown",
   "metadata": {},
   "source": [
    "We create the **<font color=\"purple\">server</font>** object then we add code to it one at a time in the followign sections."
   ]
  },
  {
   "cell_type": "code",
   "execution_count": null,
   "metadata": {},
   "outputs": [],
   "source": [
    "server <- function(input, output, session) { }"
   ]
  },
  {
   "cell_type": "markdown",
   "metadata": {},
   "source": [
    "## <font color=\"gray\">Helper Function: callConcat</font>"
   ]
  },
  {
   "cell_type": "markdown",
   "metadata": {},
   "source": [
    "<font color=\"blue\">callConcat</font> is a function that combines R expressions. [Link to solution](https://codeday.me/en/qa/20190306/8275.html). I use it to append code to the **<font color=\"purple\">Server Object</font>**"
   ]
  },
  {
   "cell_type": "code",
   "execution_count": null,
   "metadata": {},
   "outputs": [],
   "source": [
    "callConcat = function(...) {\n",
    "    ll <- list(...)\n",
    "    ll <- lapply(ll, function(X) as.list(X)[-1])\n",
    "    ll <- do.call(\"c\", ll)\n",
    "    as.call(c(as.symbol(\"{\"), ll))\n",
    "}"
   ]
  },
  {
   "cell_type": "markdown",
   "metadata": {},
   "source": [
    "#  <font color=\"orange\">Titles</font>"
   ]
  },
  {
   "cell_type": "markdown",
   "metadata": {},
   "source": [
    "This is the codes that displays the website material at the top of the page. It's all the code that is above the main buttons of the website. "
   ]
  },
  {
   "cell_type": "markdown",
   "metadata": {},
   "source": [
    "we make the title **page template**"
   ]
  },
  {
   "cell_type": "code",
   "execution_count": null,
   "metadata": {},
   "outputs": [],
   "source": [
    "tempHtml= div( class=\"row\",\n",
    "       div( class=\"jumbotron\", style=\"padding: .9em; background-size: cover \",\n",
    "       div( style=\"display: flex;justify-content: center; position: relative; \",\n",
    "           h1(style=\"text-align: center;\", id = \"graph_page_header\", \"Graph title text\" ),\n",
    "           actionButton(\"homeBtn\", icon = icon(\"home\"), label=\"\", class=\"btn btn-link\", style=\"  outline: none; padding: 15px; border: 0px; background-color: transparent; font-size: 260%;    \") \n",
    "       ), \n",
    "       p( tags$small( id=\"graph_page_text\", style=\"text-align:center;\", \"Graph Body Text\"))\n",
    "  ))\n",
    "\n",
    "ui = tagAppendChild( ui , tempHtml )\n",
    "#tempHtml\n"
   ]
  },
  {
   "cell_type": "markdown",
   "metadata": {},
   "source": [
    "# <font color=\"SkyBlue\">Buttons</font>"
   ]
  },
  {
   "cell_type": "markdown",
   "metadata": {},
   "source": [
    "This code creates the <font color=\"SkyBlue\">Buttons</font> used to switch between webpages."
   ]
  },
  {
   "cell_type": "code",
   "execution_count": null,
   "metadata": {},
   "outputs": [],
   "source": [
    "tempHtml= div(\n",
    "    column(3, actionButton(\"geneBtn\", icon = icon(\"dna\"), label=\"Fake Button\", class=\"btn btn-success btn-lg text-center\", style=\"width: 100%\"), style=\"padding: 2px; \"),\n",
    "    column(3, actionButton(\"massSpecBtn\", icon = icon(\"cogs\"), label=\"Fake\", class=\"btn-primary btn-lg text-center\",style=\"width: 100%\"), style=\"padding: 2px;\"),\n",
    "    column(3, actionButton(\"antibodyBtn\", icon = icon(\"yahoo\"), label=\"Fake\", class=\"btn btn-warning btn-lg text-center\", style=\"width: 100%\"), style=\"padding: 2px;\"),\n",
    "    column(3, actionButton(\"labBtn\", icon = icon(\"vial\"), label=\"Fake\", class=\"btn btn-danger btn-lg text-center\", style=\"width: 100%\"),  style=\"padding: 2px; \"),\n",
    "    p(\".\", style=\"color:white;\"),\n",
    "    HTML(\"<hr>\")\n",
    ")\n",
    "\n",
    "ui = tagAppendChild(ui, tempHtml )\n",
    "#tempHtml\n"
   ]
  },
  {
   "cell_type": "markdown",
   "metadata": {},
   "source": [
    "# <font color=\"peru\">Body</font>"
   ]
  },
  {
   "cell_type": "markdown",
   "metadata": {},
   "source": [
    "This code displays everything on the website that is below the <font color=\"SkyBlue\">Buttons</font>. To get a better idea of what it does  uncomment the `tempHtml` line at the end of the  <font color=\"peru\">Body Home</font> section"
   ]
  },
  {
   "cell_type": "markdown",
   "metadata": {},
   "source": [
    "The code below crete the <font color=\"peru\">Page Body</font>. The is broken up into to basic sections, the **sidebar** and the **main panel**.\n",
    "* **sidebar:** This is where all the widgets are that control what is graphed\n",
    "* **main panel:** This small piece of code displays the graph"
   ]
  },
  {
   "cell_type": "markdown",
   "metadata": {},
   "source": [
    "## <font color=\"peru\">Sidebar"
   ]
  },
  {
   "cell_type": "code",
   "execution_count": null,
   "metadata": {},
   "outputs": [],
   "source": [
    "sidebar = sidebarPanel( \n",
    "        \n",
    "        #Select which data type to visualize\n",
    "        h4('Select Data Type:'),\n",
    "        selectInput('dataType', label = NULL,\n",
    "                    choices = c( 'RNAseq: T cells', 'RNAseq: Newborns', 'Mass Spectrometry: Newborns', 'Cibersort: Newborns'),\n",
    "                    selected = 'Cibersort: Newborns'\n",
    "        ),\n",
    "        # Analyte Selection Box\n",
    "         h4('Select Analyte:'),\n",
    "         selectInput('cibersort_analyte', label = NULL,\n",
    "                     choices = colnames( guinea_cibersort )[2:23],\n",
    "                     selected = 'Neutrophils' ),\n",
    "        # Plot By Box\n",
    "         h4('Plot By:'),\n",
    "         radioButtons( 'newbornPlotBy', label = NULL,\n",
    "                      choices = c('Days of Life','Sex','Vaccination'),\n",
    "                      selected = 'Days of Life'\n",
    "         )\n",
    ")"
   ]
  },
  {
   "cell_type": "markdown",
   "metadata": {},
   "source": [
    "## <font color=\"gray\">Helper</font> <font color=\"blue\">myDownloadButton</font>"
   ]
  },
  {
   "cell_type": "markdown",
   "metadata": {},
   "source": [
    "I customized R Shiny's download button to make it look nice for the app. The code I used to do this comes [from here](https://stackoverflow.com/questions/49350509/adding-removing-icon-in-downloadbutton-and-fileinput)"
   ]
  },
  {
   "cell_type": "code",
   "execution_count": null,
   "metadata": {},
   "outputs": [],
   "source": [
    "myDownloadButton <- function(outputId, label = \"Download\", myIcon=\"download\", class = NULL, ... ){\n",
    "     tags$a(id = outputId, class = paste(\"btn btn-default shiny-download-link\", class),\n",
    "         href = \"\", target = \"_blank\", download = NA, \n",
    "         icon(myIcon) , label, ...)\n",
    "}"
   ]
  },
  {
   "cell_type": "markdown",
   "metadata": {},
   "source": [
    "## <font color=\"peru\">Graph"
   ]
  },
  {
   "cell_type": "markdown",
   "metadata": {},
   "source": [
    "<font color=\"red\">Note:</font> in the future uncomment out `numSubjects` to print number of subjects."
   ]
  },
  {
   "cell_type": "code",
   "execution_count": null,
   "metadata": {},
   "outputs": [],
   "source": [
    "main_panel = mainPanel(  \n",
    "        fluidRow( div( class=\"col-md-offset-9  col-xs-offset-8\",  #col-sm-offset-8 col-lg-offset-9 \n",
    "                   tags$b( style=\"font-family: 'Times New Roman'; color: DarkSlateGrey; font-size: 115%\", textOutput(\"num_subjects\",inline = F) ) # \n",
    "                 ) ),\n",
    "        plotlyOutput(\"dataPlot\"),\n",
    "        h2( class=\"col-xs-offset-2 col-md-offset-1\", \"Download\"),\n",
    "        div(\n",
    "            myDownloadButton('downloadPlot', label='Image', myIcon=\"image\", class=\"btn btn-success\"),\n",
    "            myDownloadButton('downloadPlotData', label='Plot Data', myIcon=\"file-download\", class=\"btn btn-warning\")\n",
    "        ),\n",
    "        p( style = 'color: DarkGrey; padding: 0px;', \"* All Data is dataset's raw and formatted files\")\n",
    "      )\n",
    "\n"
   ]
  },
  {
   "cell_type": "markdown",
   "metadata": {},
   "source": [
    "Putting Graph and SideBar together"
   ]
  },
  {
   "cell_type": "code",
   "execution_count": null,
   "metadata": {},
   "outputs": [],
   "source": [
    "tempHtml = sidebarLayout( sidebar, main_panel )             \n",
    "ui = tagAppendChild(ui, tempHtml )\n",
    "#tempHtml"
   ]
  },
  {
   "cell_type": "markdown",
   "metadata": {},
   "source": [
    "## <font color=\"peru\">Data Explanations"
   ]
  },
  {
   "cell_type": "markdown",
   "metadata": {},
   "source": [
    "Template for Data explanation text"
   ]
  },
  {
   "cell_type": "code",
   "execution_count": null,
   "metadata": {},
   "outputs": [],
   "source": [
    "tempHtml = div( class=\"jumbotron\", style=\"background-color: white; padding: .9em;\",  # padding-left: .9em; padding-top: 0px;\",\n",
    "         p( id=\"graph_data_info\" , tags$b(\"Data Info: \"), tags$small(\"Put data info here\" ) )\n",
    "   )                        \n",
    "\n",
    "ui = tagAppendChild(ui, tempHtml )\n"
   ]
  },
  {
   "cell_type": "markdown",
   "metadata": {},
   "source": [
    "# <font color=\"purple\">Graph Functions</font>"
   ]
  },
  {
   "cell_type": "markdown",
   "metadata": {},
   "source": [
    "`elliottData` creates the dataset used to make make the plot"
   ]
  },
  {
   "cell_type": "code",
   "execution_count": null,
   "metadata": {},
   "outputs": [],
   "source": [
    "temp= quote({\n",
    "    elliottData <- reactive({\n",
    "        \n",
    "        # get cibersort analyte and create graph dataframe\n",
    "        col_num = which( colnames( guinea_cibersort ) == input$cibersort_analyte )[1]\n",
    "        to_graph= data.frame( Expression=  round(guinea_cibersort[,col_num],3) , Group= as.factor(guinea_cibersort$DAY) )\n",
    "\n",
    "        # add additional columns to to_graph\n",
    "        to_graph$Day = guinea_cibersort$DAY #+ rnorm( dim(guinea_cibersort)[1] , mean = 0, sd = .12 ) \n",
    "        to_graph$DayPlot = guinea_cibersort$DAY + rnorm( dim(guinea_cibersort)[1] , mean = 0, sd = .15 ) \n",
    "        to_graph$Vaccination = guinea_mass_spec[ match( guinea_cibersort$SUBJECT, guinea_mass_spec$SUBJECT), 5 ]\n",
    "        to_graph$Sex = guinea_mass_spec[ match( guinea_cibersort$SUBJECT, guinea_mass_spec$SUBJECT), 6 ]\n",
    "        to_graph$Subject = guinea_cibersort$SUBJECT\n",
    "\n",
    "        to_graph # <- return dataset\n",
    "    })\n",
    "})\n",
    "body(server) = callConcat( body(server), temp )\n"
   ]
  },
  {
   "cell_type": "markdown",
   "metadata": {},
   "source": [
    "We write the funciton `elliottPlot` that creates the plot"
   ]
  },
  {
   "cell_type": "code",
   "execution_count": null,
   "metadata": {},
   "outputs": [],
   "source": [
    "temp= quote({\n",
    "    elliottPlot <- reactive({\n",
    "        \n",
    "        to_graph = elliottData()  # <- Get dataset\n",
    "        \n",
    "        # Decide how to plot data based on \"newbornPlotBy\" input value\n",
    "        main_plot = switch( input$newbornPlotBy ,\n",
    "             'Days of Life' = ggplot( to_graph, aes(x=DayPlot, day=Day, y=Expression, color=Group, sex=Sex, status=Vaccination, subject=Subject ) ),\n",
    "             'Sex'= ggplot( to_graph, aes(x=DayPlot, day=Day, y=Expression, color=Sex, status=Vaccination, subject=Subject ) ),\n",
    "             'Vaccination' = ggplot( to_graph, aes(x=DayPlot, day=Day, y=Expression, color=Vaccination, sex=Sex, subject=Subject ) ) \n",
    "             ) \n",
    "        \n",
    "        my_ylab = switch( input$dataType ,\n",
    "              'RNAseq: Newborns' = \"Gene Expression (counts)\",\n",
    "              \"Mass Spectrometry: Newborns\" = \"Molecule Expression\",\n",
    "              \"Phenotype Expression\"\n",
    "              )\n",
    "     \n",
    "        p = main_plot + geom_point(alpha=.7) + theme_gdocs() + labs(x='Days Alive', y=my_ylab, title=paste( input$cibersort_analyte,\" Expression in Newborns\") ) \n",
    "        ggplotly( p , tooltip = c(\"Day\", \"Expression\", \"Subject\", \"Sex\", \"Vaccination\" ) )\n",
    "    })\n",
    "})\n",
    "body(server) = callConcat( body(server), temp )\n"
   ]
  },
  {
   "cell_type": "markdown",
   "metadata": {},
   "source": [
    "**<font color=\"purple\">Render  Plot**"
   ]
  },
  {
   "cell_type": "code",
   "execution_count": null,
   "metadata": {},
   "outputs": [],
   "source": [
    "temp= quote({\n",
    "    plotInput <- reactive({\n",
    "        p <- elliottPlot()\n",
    "        my_data = elliottData()\n",
    "        output$num_subjects = renderText({  paste( dim(my_data)[1],\" Subjects\" )  })\n",
    "        p\n",
    "    }) #<-- plotInput end    \n",
    "    output$dataPlot <- renderPlotly({ plotInput() })\n",
    "    \n",
    "})  #<-- Quote end\n",
    "body(server) = callConcat( body(server), temp )\n"
   ]
  },
  {
   "cell_type": "markdown",
   "metadata": {},
   "source": [
    "# <font color=\"blue\">Run  Shiny</font> "
   ]
  },
  {
   "cell_type": "markdown",
   "metadata": {},
   "source": [
    "We change the following options so that <font color=\"blue\">RShiny</font> runs at an exposed port and on the computer."
   ]
  },
  {
   "cell_type": "code",
   "execution_count": null,
   "metadata": {},
   "outputs": [],
   "source": [
    "options(shiny.port = 8888)\n",
    "options(shiny.host = \"0.0.0.0\")"
   ]
  },
  {
   "cell_type": "markdown",
   "metadata": {},
   "source": [
    "We run the app!"
   ]
  },
  {
   "cell_type": "code",
   "execution_count": null,
   "metadata": {},
   "outputs": [],
   "source": [
    "shinyApp(ui = fluidPage( useShinyjs(), style='margin-left:5px; margin-right:5px', ui  ), server = server)"
   ]
  },
  {
   "cell_type": "code",
   "execution_count": null,
   "metadata": {},
   "outputs": [],
   "source": []
  }
 ],
 "metadata": {
  "hide_input": false,
  "kernelspec": {
   "display_name": "R (Juniper)",
   "language": "R",
   "name": "juniper"
  },
  "language_info": {
   "codemirror_mode": "r",
   "file_extension": ".R",
   "mimetype": "text/x-r-source",
   "name": "R",
   "pygments_lexer": "r",
   "version": "3.5.1"
  },
  "toc": {
   "base_numbering": 1,
   "nav_menu": {},
   "number_sections": true,
   "sideBar": true,
   "skip_h1_title": false,
   "title_cell": "Table of Contents",
   "title_sidebar": "Contents",
   "toc_cell": false,
   "toc_position": {},
   "toc_section_display": true,
   "toc_window_display": false
  },
  "varInspector": {
   "cols": {
    "lenName": 16,
    "lenType": 16,
    "lenVar": 40
   },
   "kernels_config": {
    "python": {
     "delete_cmd_postfix": "",
     "delete_cmd_prefix": "del ",
     "library": "var_list.py",
     "varRefreshCmd": "print(var_dic_list())"
    },
    "r": {
     "delete_cmd_postfix": ") ",
     "delete_cmd_prefix": "rm(",
     "library": "var_list.r",
     "varRefreshCmd": "cat(var_dic_list()) "
    }
   },
   "types_to_exclude": [
    "module",
    "function",
    "builtin_function_or_method",
    "instance",
    "_Feature"
   ],
   "window_display": false
  },
  "widgets": {
   "application/vnd.jupyter.widget-state+json": {
    "state": {},
    "version_major": 2,
    "version_minor": 0
   }
  }
 },
 "nbformat": 4,
 "nbformat_minor": 2
}
